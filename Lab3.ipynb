{
  "nbformat": 4,
  "nbformat_minor": 0,
  "metadata": {
    "colab": {
      "name": "Lab3.ipynb",
      "provenance": [],
      "collapsed_sections": []
    },
    "kernelspec": {
      "name": "python3",
      "display_name": "Python 3"
    }
  },
  "cells": [
    {
      "cell_type": "code",
      "metadata": {
        "id": "-uiPilOtRrbx",
        "colab": {
          "base_uri": "https://localhost:8080/"
        },
        "outputId": "80559285-a47d-437e-e006-db513b303d67"
      },
      "source": [
        "import numpy as np\r\n",
        "import matplotlib.pyplot as plt\r\n",
        "\r\n",
        "l1 = np.array([1,2])\r\n",
        "l2 = np.array([3,4])\r\n",
        "l3 = np.array([5,6])\r\n",
        "l4 = np.array([7,8])\r\n",
        "l5 = np.array([9,0])\r\n",
        "l6 = np.array([-1,2])\r\n",
        "\r\n",
        "print (l1, l2, l3, l4, l5, l6)"
      ],
      "execution_count": 8,
      "outputs": [
        {
          "output_type": "stream",
          "text": [
            "[1 2] [ 3 -4] [5 6] [7 8] [9 0] [-1  2]\n"
          ],
          "name": "stdout"
        }
      ]
    },
    {
      "cell_type": "code",
      "metadata": {
        "colab": {
          "base_uri": "https://localhost:8080/",
          "height": 269
        },
        "id": "593xORhge5pG",
        "outputId": "d93fe025-1818-4c52-dd79-d095c583aefc"
      },
      "source": [
        "d = np.arange (-20,20,.15)\r\n",
        "plt.scatter(d*l1[0], d*l1[1], color= 'blue')\r\n",
        "plt.scatter(d*l2[0], d*l2[1], color= 'red')\r\n",
        "plt.scatter(d*l3[0], d*l3[1], color= 'green')\r\n",
        "\r\n",
        "plt.xlim(-20,20)\r\n",
        "plt.ylim(-20,20)\r\n",
        "plt.axhline(y=0, color= 'black')\r\n",
        "plt.axvline(x=0, color= 'black')\r\n",
        "plt.grid()\r\n",
        "plt.show()"
      ],
      "execution_count": 16,
      "outputs": [
        {
          "output_type": "display_data",
          "data": {
            "image/png": "[encoded data removed]",
            "text/plain": [
              "<Figure size 432x288 with 1 Axes>"
            ]
          },
          "metadata": {
            "tags": [],
            "needs_background": "light"
          }
        }
      ]
    },
    {
      "cell_type": "code",
      "metadata": {
        "colab": {
          "base_uri": "https://localhost:8080/",
          "height": 269
        },
        "id": "jovMDzn3kcwu",
        "outputId": "3463f972-3ee4-4b95-b249-3687eb3a0ed0"
      },
      "source": [
        "mg = np.arange(-5,5,.10)\r\n",
        "c1, c2, c3= np.meshgrid(mg, mg, mg)\r\n",
        "\r\n",
        "\r\n",
        "spanX = c1*l4[0] +c2*l5[0] + c3*l6[0]\r\n",
        "spanY = c1*l4[1] +c2*l5[1] + c3*l6[1]\r\n",
        "\r\n",
        "plt.scatter(spanX,spanY)\r\n",
        "\r\n",
        "plt.xlim (-150,150)\r\n",
        "plt.ylim(-150,150)\r\n",
        "plt.axhline(y=0, color='black')\r\n",
        "plt.axvline(x=0, color='black')\r\n",
        "plt.grid()\r\n",
        "plt.show()\r\n"
      ],
      "execution_count": 68,
      "outputs": [
        {
          "output_type": "display_data",
          "data": {
            "image/png": "[encoded data removed]",
            "text/plain": [
              "<Figure size 432x288 with 1 Axes>"
            ]
          },
          "metadata": {
            "tags": [],
            "needs_background": "light"
          }
        }
      ]
    },
    {
      "cell_type": "code",
      "metadata": {
        "colab": {
          "base_uri": "https://localhost:8080/",
          "height": 269
        },
        "id": "xXLVZT2VrUvq",
        "outputId": "4afd2509-7fbe-4e96-a0c5-c62ffb4ec250"
      },
      "source": [
        "mg = np.arange(-5,5,.125)\r\n",
        "c1, c2, c3= np.meshgrid(mg, mg, mg)\r\n",
        "\r\n",
        "spanX = c1*l1[0] +c2*l2[0] + c3*l3[0]\r\n",
        "spanY = c1*l4[1] +c2*l5[1] + c3*l6[1]\r\n",
        "\r\n",
        "plt.scatter(spanX,spanY,  s=3, alpha= 1, color = 'red')\r\n",
        "\r\n",
        "plt.xlim (-150,150)\r\n",
        "plt.ylim(-150,150)\r\n",
        "plt.axhline(y=0, color='black')\r\n",
        "plt.axvline(x=0, color='black')\r\n",
        "plt.grid()\r\n",
        "plt.show()"
      ],
      "execution_count": 59,
      "outputs": [
        {
          "output_type": "display_data",
          "data": {
            "image/png": "[encoded data removed]",
            "text/plain": [
              "<Figure size 432x288 with 1 Axes>"
            ]
          },
          "metadata": {
            "tags": [],
            "needs_background": "light"
          }
        }
      ]
    },
    {
      "cell_type": "code",
      "metadata": {
        "colab": {
          "base_uri": "https://localhost:8080/",
          "height": 269
        },
        "id": "050tEKgfuUkd",
        "outputId": "0645d505-d97d-40d5-dc83-2195cacf6a56"
      },
      "source": [
        "spanX = c1*l1[0] +c2*l2[0] + c3*l3[0]\r\n",
        "spanY = c1*l1[1] +c2*l2[1] + c3*l3[1]\r\n",
        "\r\n",
        "plt.scatter(spanX,spanY,  s=2, alpha= .75, color = 'red')\r\n",
        "\r\n",
        "plt.xlim (-150,150)\r\n",
        "plt.ylim(-150,150)\r\n",
        "plt.axhline(y=0, color='black')\r\n",
        "plt.axvline(x=0, color='black')\r\n",
        "plt.grid()\r\n",
        "plt.show()"
      ],
      "execution_count": 60,
      "outputs": [
        {
          "output_type": "display_data",
          "data": {
            "image/png": "[encoded data removed]",
            "text/plain": [
              "<Figure size 432x288 with 1 Axes>"
            ]
          },
          "metadata": {
            "tags": [],
            "needs_background": "light"
          }
        }
      ]
    }
  ]
}